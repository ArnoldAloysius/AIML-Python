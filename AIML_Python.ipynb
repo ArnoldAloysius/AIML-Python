{
  "nbformat": 4,
  "nbformat_minor": 0,
  "metadata": {
    "colab": {
      "provenance": [],
      "authorship_tag": "ABX9TyMKBneHgwGTD1L2/iNZC0lo",
      "include_colab_link": true
    },
    "kernelspec": {
      "name": "python3",
      "display_name": "Python 3"
    },
    "language_info": {
      "name": "python"
    }
  },
  "cells": [
    {
      "cell_type": "markdown",
      "metadata": {
        "id": "view-in-github",
        "colab_type": "text"
      },
      "source": [
        "<a href=\"https://colab.research.google.com/github/ArnoldAloysius/AIML-Python/blob/main/AIML_Python.ipynb\" target=\"_parent\"><img src=\"https://colab.research.google.com/assets/colab-badge.svg\" alt=\"Open In Colab\"/></a>"
      ]
    },
    {
      "cell_type": "code",
      "execution_count": 6,
      "metadata": {
        "id": "iTqMWMUaSNof"
      },
      "outputs": [],
      "source": [
        "\n",
        "from google.colab import auth\n",
        "auth.authenticate_user()"
      ]
    },
    {
      "cell_type": "code",
      "source": [
        "!git config --global user.name \"ArnoldAloysius\""
      ],
      "metadata": {
        "id": "9cgqQkeMiSz2"
      },
      "execution_count": 7,
      "outputs": []
    },
    {
      "cell_type": "code",
      "source": [
        "!git config --global user.email \"arnoldaloysius2601@gmail.com\""
      ],
      "metadata": {
        "id": "v-6Vlgudin91"
      },
      "execution_count": 8,
      "outputs": []
    },
    {
      "cell_type": "code",
      "source": [
        "!git clone https://github.com/ArnoldAloysius/AIML-Python.git"
      ],
      "metadata": {
        "colab": {
          "base_uri": "https://localhost:8080/"
        },
        "id": "Bdrq5pCFi0cF",
        "outputId": "b5faba2a-b774-4e05-d3b7-d87e39f8c664"
      },
      "execution_count": 12,
      "outputs": [
        {
          "output_type": "stream",
          "name": "stdout",
          "text": [
            "fatal: destination path 'AIML-Python' already exists and is not an empty directory.\n"
          ]
        }
      ]
    },
    {
      "cell_type": "code",
      "source": [
        "#Variables-used to store data\n",
        "a=10\n",
        "b=20\n",
        "abc=30\n",
        "#cannot start with a number\n",
        "print(a,b,abc)"
      ],
      "metadata": {
        "colab": {
          "base_uri": "https://localhost:8080/"
        },
        "id": "S0PS2OhKjGJ5",
        "outputId": "b280ae51-0c6a-47f2-b019-88778aeab852"
      },
      "execution_count": 13,
      "outputs": [
        {
          "output_type": "stream",
          "name": "stdout",
          "text": [
            "10 20 30\n"
          ]
        }
      ]
    },
    {
      "cell_type": "code",
      "source": [
        "#Operators\n",
        "#Arthematic operators(+,-,*,/,//,%)// gives quotient,%gives remainder\n",
        "a=10\n",
        "b=20\n",
        "print(a+b,a-b,a*b,a%b,a/b,a//b)\n"
      ],
      "metadata": {
        "colab": {
          "base_uri": "https://localhost:8080/"
        },
        "id": "hrxdAH9xocKv",
        "outputId": "9ccc61e3-954a-4c18-f00c-bda3974c8ccc"
      },
      "execution_count": 14,
      "outputs": [
        {
          "output_type": "stream",
          "name": "stdout",
          "text": [
            "30 -10 200 10 0.5 0\n"
          ]
        }
      ]
    },
    {
      "cell_type": "code",
      "source": [
        "#Assignment Operators(=,+=,-=,/=,//=,%=)\n",
        "a=20\n",
        "a+=10\n",
        "b=50\n",
        "b-=10\n",
        "c=100\n",
        "c/=5\n",
        "d=100\n",
        "d//=5\n",
        "e=100\n",
        "e%=5\n",
        "print(\"a=\",a,\"b=\",b,\"c=\",c,\"d=\",d,\"e=\",e)"
      ],
      "metadata": {
        "colab": {
          "base_uri": "https://localhost:8080/"
        },
        "id": "8n8QwhfnpGH3",
        "outputId": "6b456237-e103-4c87-806b-5ea56e0216ea"
      },
      "execution_count": 25,
      "outputs": [
        {
          "output_type": "stream",
          "name": "stdout",
          "text": [
            "a= 30 b= 40 c= 20.0 d= 20 e= 0\n"
          ]
        }
      ]
    },
    {
      "cell_type": "code",
      "source": [
        "#Comparision operators(>,<,<=,>=,==,!=)\n",
        "a=10\n",
        "b=20\n",
        "print(a>b, a<b, a<=b,a>=b,a==b,a!=b)"
      ],
      "metadata": {
        "colab": {
          "base_uri": "https://localhost:8080/"
        },
        "id": "yX1pS6s3sBtL",
        "outputId": "7375fbc4-3a47-497d-f163-cf8d015f6846"
      },
      "execution_count": 32,
      "outputs": [
        {
          "output_type": "stream",
          "name": "stdout",
          "text": [
            "False True True False False True\n"
          ]
        }
      ]
    },
    {
      "cell_type": "code",
      "source": [
        "#Datatypes\n",
        "#integer\n",
        "A=10\n",
        "print(type(A))\n",
        "#Float\n",
        "B=10.5\n",
        "print(type(B))\n",
        "#strings\n",
        "C=\"Hi im Arnold\"\n",
        "print(type(C))\n",
        "#Boolean(True or False)\n",
        "a=5\n",
        "b=8\n",
        "print(a>b)"
      ],
      "metadata": {
        "colab": {
          "base_uri": "https://localhost:8080/"
        },
        "id": "6_s77I4_rLL-",
        "outputId": "1ac78afd-c81b-43d4-e86c-6772b7d14e05"
      },
      "execution_count": 31,
      "outputs": [
        {
          "output_type": "stream",
          "name": "stdout",
          "text": [
            "<class 'int'>\n",
            "<class 'float'>\n",
            "<class 'str'>\n",
            "False\n"
          ]
        }
      ]
    }
  ]
}