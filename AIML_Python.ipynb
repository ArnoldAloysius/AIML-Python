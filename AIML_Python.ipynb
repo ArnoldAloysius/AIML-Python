{
  "nbformat": 4,
  "nbformat_minor": 0,
  "metadata": {
    "colab": {
      "provenance": [],
      "authorship_tag": "ABX9TyN/5Qdk4HJ47AUkBzAc+R0Y",
      "include_colab_link": true
    },
    "kernelspec": {
      "name": "python3",
      "display_name": "Python 3"
    },
    "language_info": {
      "name": "python"
    }
  },
  "cells": [
    {
      "cell_type": "markdown",
      "metadata": {
        "id": "view-in-github",
        "colab_type": "text"
      },
      "source": [
        "<a href=\"https://colab.research.google.com/github/ArnoldAloysius/AIML-Python/blob/main/AIML_Python.ipynb\" target=\"_parent\"><img src=\"https://colab.research.google.com/assets/colab-badge.svg\" alt=\"Open In Colab\"/></a>"
      ]
    },
    {
      "cell_type": "code",
      "execution_count": null,
      "metadata": {
        "id": "iTqMWMUaSNof"
      },
      "outputs": [],
      "source": [
        "\n",
        "from google.colab import auth\n",
        "auth.authenticate_user()"
      ]
    },
    {
      "cell_type": "code",
      "source": [
        "!git config --global user.name \"ArnoldAloysius\""
      ],
      "metadata": {
        "id": "9cgqQkeMiSz2"
      },
      "execution_count": null,
      "outputs": []
    },
    {
      "cell_type": "code",
      "source": [
        "!git config --global user.email \"arnoldaloysius2601@gmail.com\""
      ],
      "metadata": {
        "id": "v-6Vlgudin91"
      },
      "execution_count": null,
      "outputs": []
    },
    {
      "cell_type": "code",
      "source": [
        "!git clone https://github.com/ArnoldAloysius/AIML-Python.git"
      ],
      "metadata": {
        "colab": {
          "base_uri": "https://localhost:8080/"
        },
        "id": "Bdrq5pCFi0cF",
        "outputId": "b5faba2a-b774-4e05-d3b7-d87e39f8c664"
      },
      "execution_count": null,
      "outputs": [
        {
          "output_type": "stream",
          "name": "stdout",
          "text": [
            "fatal: destination path 'AIML-Python' already exists and is not an empty directory.\n"
          ]
        }
      ]
    },
    {
      "cell_type": "code",
      "source": [
        "#Variables-used to store data\n",
        "a=10\n",
        "b=20\n",
        "abc=30\n",
        "#cannot start with a number\n",
        "print(a,b,abc)"
      ],
      "metadata": {
        "colab": {
          "base_uri": "https://localhost:8080/"
        },
        "id": "S0PS2OhKjGJ5",
        "outputId": "b280ae51-0c6a-47f2-b019-88778aeab852"
      },
      "execution_count": null,
      "outputs": [
        {
          "output_type": "stream",
          "name": "stdout",
          "text": [
            "10 20 30\n"
          ]
        }
      ]
    },
    {
      "cell_type": "code",
      "source": [
        "#Operators\n",
        "#Arthematic operators(+,-,*,/,//,%)// gives quotient,%gives remainder\n",
        "a=10\n",
        "b=20\n",
        "print(a+b,a-b,a*b,a%b,a/b,a//b)\n"
      ],
      "metadata": {
        "colab": {
          "base_uri": "https://localhost:8080/"
        },
        "id": "hrxdAH9xocKv",
        "outputId": "9ccc61e3-954a-4c18-f00c-bda3974c8ccc"
      },
      "execution_count": null,
      "outputs": [
        {
          "output_type": "stream",
          "name": "stdout",
          "text": [
            "30 -10 200 10 0.5 0\n"
          ]
        }
      ]
    },
    {
      "cell_type": "code",
      "source": [
        "#Assignment Operators(=,+=,-=,/=,//=,%=)\n",
        "a=20\n",
        "a+=10\n",
        "b=50\n",
        "b-=10\n",
        "c=100\n",
        "c/=5\n",
        "d=100\n",
        "d//=5\n",
        "e=100\n",
        "e%=5\n",
        "print(\"a=\",a,\"b=\",b,\"c=\",c,\"d=\",d,\"e=\",e)"
      ],
      "metadata": {
        "colab": {
          "base_uri": "https://localhost:8080/"
        },
        "id": "8n8QwhfnpGH3",
        "outputId": "6b456237-e103-4c87-806b-5ea56e0216ea"
      },
      "execution_count": null,
      "outputs": [
        {
          "output_type": "stream",
          "name": "stdout",
          "text": [
            "a= 30 b= 40 c= 20.0 d= 20 e= 0\n"
          ]
        }
      ]
    },
    {
      "cell_type": "code",
      "source": [
        "#Comparision operators(>,<,<=,>=,==,!=)\n",
        "a=10\n",
        "b=20\n",
        "print(a>b, a<b, a<=b,a>=b,a==b,a!=b)"
      ],
      "metadata": {
        "colab": {
          "base_uri": "https://localhost:8080/"
        },
        "id": "yX1pS6s3sBtL",
        "outputId": "7375fbc4-3a47-497d-f163-cf8d015f6846"
      },
      "execution_count": null,
      "outputs": [
        {
          "output_type": "stream",
          "name": "stdout",
          "text": [
            "False True True False False True\n"
          ]
        }
      ]
    },
    {
      "cell_type": "code",
      "source": [
        "#Datatypes\n",
        "#integer\n",
        "A=10\n",
        "print(type(A))\n",
        "#Float\n",
        "B=10.5\n",
        "print(type(B))\n",
        "#strings\n",
        "C=\"Hi im Arnold\"\n",
        "print(type(C))\n",
        "#Boolean(True or False)\n",
        "a=5\n",
        "b=8\n",
        "print(a>b)"
      ],
      "metadata": {
        "colab": {
          "base_uri": "https://localhost:8080/"
        },
        "id": "6_s77I4_rLL-",
        "outputId": "1ac78afd-c81b-43d4-e86c-6772b7d14e05"
      },
      "execution_count": null,
      "outputs": [
        {
          "output_type": "stream",
          "name": "stdout",
          "text": [
            "<class 'int'>\n",
            "<class 'float'>\n",
            "<class 'str'>\n",
            "False\n"
          ]
        }
      ]
    },
    {
      "cell_type": "code",
      "source": [
        "#F string\n",
        "name=\"Arnold\"\n",
        "age=24\n",
        "print(f\" hi my name is {name}and im {24}\")"
      ],
      "metadata": {
        "colab": {
          "base_uri": "https://localhost:8080/"
        },
        "id": "4s-6RYKGRTAP",
        "outputId": "031e1a5f-f323-4e5c-8b37-0c859d75e197"
      },
      "execution_count": 3,
      "outputs": [
        {
          "output_type": "stream",
          "name": "stdout",
          "text": [
            " hi my name is Arnoldand im24\n"
          ]
        }
      ]
    },
    {
      "cell_type": "markdown",
      "source": [
        "**Inbuilt Data types(used to store multiple data in single variable)**\n",
        "List/\n",
        "Tuple/\n",
        "Dictionaries/\n",
        "Sets\n",
        "**Ordered/Changeable/Duplicates**,apply this for datatypes to understand better"
      ],
      "metadata": {
        "id": "nwZgzBXARzlq"
      }
    },
    {
      "cell_type": "code",
      "source": [
        "#LISTS [] Ordered/Changeable/Duplicates\n",
        "\n",
        "#ordered\n",
        "a=[10,20,30,40]\n",
        "print(a)\n",
        "#duplicates(duplicates are allowed)\n",
        "a1=[10,10,20,30]\n",
        "print(a1)\n",
        "#changeable(can modify)\n",
        "#ADD(append,insert)\n",
        "a2=[10,20,30,40,50]\n",
        "     #add at the end of the list\n",
        "a2.append(\"append\")\n",
        "print(a2)\n",
        "    #add at particular position\n",
        "a2.insert(3,\"insert\")#3 is index value 222 is element to be added\n",
        "print(a2)\n",
        "#DELETE(remove,pop)\n",
        "a2.remove(10)\n",
        "print(a2)\n",
        "#UPDATE\n",
        "a2[0]=\"update\"# 0 is target index\n",
        "print(a2)"
      ],
      "metadata": {
        "colab": {
          "base_uri": "https://localhost:8080/"
        },
        "id": "wD_sFsfpR02z",
        "outputId": "818dc533-f0cf-452a-e695-3418a8f47110"
      },
      "execution_count": 12,
      "outputs": [
        {
          "output_type": "stream",
          "name": "stdout",
          "text": [
            "[10, 20, 30, 40]\n",
            "[10, 10, 20, 30]\n",
            "[10, 20, 30, 40, 50, 'append']\n",
            "[10, 20, 30, 'insert', 40, 50, 'append']\n",
            "[20, 30, 'insert', 40, 50, 'append']\n",
            "['update', 30, 'insert', 40, 50, 'append']\n"
          ]
        }
      ]
    },
    {
      "cell_type": "code",
      "source": [
        "#TUPLES () ORDERED/DUPLICATES/ NOT CHANGEABLE(IMMUTABLE)\n",
        "#ordered\n",
        "t=(1,2,3,4,5)\n",
        "print(t)\n",
        "#duplicates\n",
        "t1=(1,2,3,4,4,5)\n",
        "print(t1)\n"
      ],
      "metadata": {
        "colab": {
          "base_uri": "https://localhost:8080/"
        },
        "id": "vxsehnZCUvq_",
        "outputId": "d4d284de-dc2a-4f58-8310-4ac825c136d6"
      },
      "execution_count": 14,
      "outputs": [
        {
          "output_type": "stream",
          "name": "stdout",
          "text": [
            "(1, 2, 3, 4, 5)\n",
            "(1, 2, 3, 4, 4, 5)\n"
          ]
        }
      ]
    }
  ]
}